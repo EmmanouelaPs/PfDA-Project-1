{
 "cells": [
  {
   "cell_type": "markdown",
   "metadata": {},
   "source": [
    "# Programming for Data Analytics 2022 - Project 1\n",
    "\n",
    "Emmanouela Psaraki\n",
    "*G00411374*"
   ]
  },
  {
   "cell_type": "markdown",
   "metadata": {},
   "source": [
    "## Table of Contents\n",
    "#### [Project Intruduction](#chapter1)\n",
    "\n",
    "This is the first project for the Programming for Data Analytics Course. The purpose of this project is to create a data set by simulating a real - world phenomenos of my choosing.\n",
    "Python should then be used to manipulate and synthesize data within my dataset.\n",
    "\n",
    "The real-world phenomenon I chose to investigate relates to my job and and examines the Corporate Credit Ratings.\n"
   ]
  },
  {
   "cell_type": "markdown",
   "metadata": {},
   "source": [
    "#### [Research Framework](#chapter2)\n",
    "\n",
    "* Corporate Ratings Definition\n",
    "\n",
    "A credit rating is an evaluation of the credit risk of a prospective debtor (an individual, a business, company or a government), predicting their ability to pay back the debt, and an implicit forecast of the likelihood of the debtor defaulting. The credit rating represents an evaluation of a credit rating agency of the qualitative and quantitative information for the prospective debtor, including information provided by the prospective debtor and other non-public information obtained by the credit rating agency's analysts.\n",
    "\n",
    "Credit reporting (or credit score) - is a subset of credit rating - it is a numeric evaluation of an individual's credit worthiness, which is done by a credit bureau or consumer credit reporting agency.**(1)**\n",
    "νφ"
   ]
  },
  {
   "cell_type": "markdown",
   "metadata": {},
   "source": []
  },
  {
   "cell_type": "markdown",
   "metadata": {},
   "source": []
  },
  {
   "cell_type": "markdown",
   "metadata": {},
   "source": []
  },
  {
   "cell_type": "markdown",
   "metadata": {},
   "source": [
    "References\n",
    "1. https://en.wikipedia.org/wiki/Credit_rating\n",
    "\n",
    "\n"
   ]
  }
 ],
 "metadata": {
  "kernelspec": {
   "display_name": "Python 3.10.8 64-bit (microsoft store)",
   "language": "python",
   "name": "python3"
  },
  "language_info": {
   "name": "python",
   "version": "3.10.8"
  },
  "orig_nbformat": 4,
  "vscode": {
   "interpreter": {
    "hash": "8d3a06df2823a66d95fe8f341fd415364609d86e2a97557202419aeb6b2e6f61"
   }
  }
 },
 "nbformat": 4,
 "nbformat_minor": 2
}
