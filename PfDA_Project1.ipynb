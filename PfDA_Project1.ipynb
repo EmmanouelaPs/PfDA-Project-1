{
 "cells": [
  {
   "cell_type": "markdown",
   "metadata": {},
   "source": [
    "# Programming for Data Analytics 2022 - Project 1\n",
    "\n",
    "Emmanouela Psaraki\n",
    "*G00411374*"
   ]
  },
  {
   "attachments": {},
   "cell_type": "markdown",
   "metadata": {},
   "source": [
    "## Table of Contents\n",
    "  ### Project Introduction\n",
    "  ### Research Framework\n",
    "   #### Credit Ratings Definition\n",
    "   #### Corporate Credit Ratings\n",
    "   #### Credit Rating Agencies\n",
    "  ### Data Set Explanation\n",
    "  ### Variables\n",
    "   * Rating\n",
    "   * Name\n",
    "   * Sector\n",
    "   * Gross profit Margin\n",
    "   * Debt / Equity Ratio\n",
    "   * Cash per Share\n",
    "  ### Installing & Importing Libraries\n",
    "  ### Importing & Exploring the Data Set\n",
    "  ### Create a Data Frame based on my Data Set\n",
    "  ### Data Frame Analysis\n"
   ]
  },
  {
   "attachments": {},
   "cell_type": "markdown",
   "metadata": {},
   "source": [
    "#### [Project Intruduction](#chapter1)\n",
    "\n",
    "This is the first project for the Programming for Data Analytics Course. The purpose of this project is to create a data set by simulating a real - world phenomenos of my choosing.\n",
    "Python should then be used to manipulate and synthesize data within my dataset.\n",
    "\n",
    "The real-world phenomenon I chose to investigate relates to my job and and examines the Corporate Credit Ratings."
   ]
  },
  {
   "cell_type": "markdown",
   "metadata": {},
   "source": [
    "#### [Research Framework](#chapter2)\n",
    "\n",
    "* Credit Ratings Definition\n",
    "\n",
    "A credit rating is an evaluation of the credit risk of a prospective debtor (an individual, a business, company or a government), predicting their ability to pay back the debt, and an implicit forecast of the likelihood of the debtor defaulting. The credit rating represents an evaluation of a credit rating agency of the qualitative and quantitative information for the prospective debtor, including information provided by the prospective debtor and other non-public information obtained by the credit rating agency's analysts.\n",
    "\n",
    "Credit reporting (or credit score) - is a subset of credit rating - it is a numeric evaluation of an individual's credit worthiness, which is done by a credit bureau or consumer credit reporting agency.**(1)**\n"
   ]
  },
  {
   "cell_type": "markdown",
   "metadata": {},
   "source": [
    "* Corporate Cradit Ratings\n",
    "\n",
    "Main Article: [Bond Credit Rating](https://en.wikipedia.org/wiki/Bond_credit_rating)\n",
    "\n",
    "Credit ratings can address a corporation's financial instruments i.e. debt security such as a bond, but also the corporations itself. Ratings are assigned by credit rating agencies, the largest of which are Standard & Poor's, Moody's and Fitch Ratings. They use letter designations such as A, B, C. Higher grades are intended to represent a lower probability of default.\n",
    "\n",
    "Agencies do not attach a hard number of probability of default to each grade, preferring descriptive definitions such as: \"the obligor's capacity to meet its financial commitment on the obligation is extremely strong\", or \"less vulnerable to non-payment that other speculative issues...\" (Standard and Poors' definition of an AAA-rated and BB-rated bond respectively). However, some studies have estimated the average risk and reward of bonds by rating. One study by Moody's claimed that over a \"5-year time horizon\" bonds it gave its highest rating (Aaa) to had a \"cumulative default rate\" of 0.18%, the next highest (Aa2) 0.28%, the next (Baa2) 2.11%, 8.82% for the next (Ba2), and 31.24% for the lowest it studied (B2). Over a long period, it stated \"the order is by and large, but not exactly, preserved\".\n",
    "\n",
    "Another study in Journal of Finance calculated the additional interest rate or \"spread\" corporate bonds pay over that of \"riskless\" US Treasury bonds, according to the bonds' rating. (See \"Basis point spread\" in table to right.) Looking at rated bonds for 1973–89, the authors found a AAA-rated bond paid 43 \"basis points\" (or 43/100 of a percentage point) over a US Treasury bond (so that it would yield 3.43% if the Treasury yielded 3.00%). A CCC-rated \"junk\" (or speculative) bond, on the other hand, paid over 7% (724 basis points) more than a Treasury bond on average over that period.\n",
    "\n",
    "Different rating agencies may use variations of an alphabetical combination of lowercase and uppercase letters, with either plus or minus signs or numbers added to further fine-tune the rating (see colored chart). The Standard & Poor's rating scale uses uppercase letters and pluses and minuses. The Moody's rating system uses numbers and lowercase letters as well as uppercase.\n",
    "\n",
    "While Moody's, S&P and Fitch Ratings control approximately 95% of the credit ratings business, they are not the only rating agencies. DBRS's long-term ratings scale is somewhat similar to Standard & Poor's and Fitch Ratings with the words high and low replacing the + and −. It goes as follows, from excellent to poor: AAA, AA (high), AA, AA (low), A (high), A, A (low), BBB (high), BBB, BBB (low), BB (high), BB, BB (low), B (high), B, B (low), CCC (high), CCC, CCC (low), CC (high), CC, CC (low), C (high), C, C (low) and D. The short-term ratings often map to long-term ratings though there is room for exceptions at the high or low side of each equivalent.\n",
    "\n",
    "S&P, Moody's, Fitch and DBRS are the only four ratings agencies that are recognized by the European Central Bank (ECB) for determining collateral requirements for banks to borrow from the central bank. The ECB uses a first, best rule among the four agencies that have the designated ECAI status, which means that it takes the highest rating among the four agencies – S&P, Moody's, Fitch and DBRS – to determine haircuts and collateral requirements for borrowing. Ratings in Europe have been under close scrutiny, particularly the highest ratings given to countries like Spain, Ireland and Italy, because they affect how much banks can borrow against sovereign debt they hold.\n",
    "\n",
    "A. M. Best rates from excellent to poor in the following manner: A++, A+, A, A−, B++, B+, B, B−, C++, C+, C, C−, D, E, F, and S. The CTRISKS rating system is as follows: CT3A, CT2A, CT1A, CT3B, CT2B, CT1B, CT3C, CT2C and CT1C. All these CTRISKS grades are mapped to one-year probability of default."
   ]
  },
  {
   "cell_type": "markdown",
   "metadata": {},
   "source": [
    "* Credit Rating Agencies\n",
    "\n",
    "Not all of the Rating Agencies use the same wording to assign a credit rating. The picture below describes the scaling the three biggest US credit rating agencies, namely Moody's. S&P, and Fitch, use to assign long-term corporate credit ratings. The red line divides \"Investment Grade\" (above the line) from what is often called \"speculative\", \"below investment grade,\" \"high yield\", or \"junk\". The scale goes from vely low-risk triple-A at the top to very high risk, and finally \"default\" at the bottom."
   ]
  },
  {
   "cell_type": "markdown",
   "metadata": {},
   "source": [
    "![Corporate Ratings]( https://wolfstreet.com/wp-content/uploads/2019/01/US-credit-ratings-scale-Moodys-SP-Fitch.png)"
   ]
  },
  {
   "attachments": {},
   "cell_type": "markdown",
   "metadata": {},
   "source": [
    "### Data Set Explanation"
   ]
  },
  {
   "attachments": {},
   "cell_type": "markdown",
   "metadata": {},
   "source": [
    "The Data Set that I have picked to do my Analysis is published in [Kaggle](https://www.kaggle.com/datasets/agewerc/corporate-credit-rating) and contains a list of 2029 credit ratings issued by major agencies such as Standard and Poors to big US firms (traded on NYSE or Nasdaq) from 2010 to 2016.\n",
    "\n",
    "There are 30 features for every company of which 25 are financial indicators. These are divided in:\n",
    "\n",
    "* Liquidity Measurement Ratios: currentRatio, quickRatio, cashRatio, daysOfSalesOutstanding\n",
    "\n",
    "* Profitability Indicator Ratios: grossProfitMargin, operatingProfitMargin, pretaxProfitMargin, netProfitMargin, effectiveTaxRate, returnOnAssets, returnOnEquity, returnOnCapitalEmployed\n",
    "\n",
    "* Debt Ratios: debtRatio, debtEquityRatio\n",
    "\n",
    "* Operating Performance Ratios:` assetTurnover\n",
    "\n",
    "* Cash Flow Indicator Ratios: operatingCashFlowPerShare, freeCashFlowPerShare, cashPerShare, operatingCashFlowSalesRatio, freeCashFlowOperatingCashFlowRatio"
   ]
  },
  {
   "attachments": {},
   "cell_type": "markdown",
   "metadata": {},
   "source": [
    "### Variables\n",
    "\n",
    "From the Above Data Set, I have picked 6 Variables that I will focus my analysis on. These are:\n",
    "\n",
    " * Rating: the Scale used by the Credit Rating Agency to classify the debt default probability of the Issuer or the Debt instrument\n",
    "\n",
    " * Name: The Name of the Credit Rating Agency\n",
    "\n",
    " * Sector: the Sector where the Rated Entity or Debt Instrument belongs\n",
    "\n",
    " * Gross profit Margin: The profit made by the Entity after paying for the direct cost of doing business, which can include labour, materials and other direct production costs. \n",
    "    \n",
    "    It is calculated as: (Net Revenue - Direct Expenses) / Net Revenue * 100\n",
    "\n",
    " * Debt / Equity Ratio: this ratio measures the extent to which a company can cover its debt. It is calculated as Company's Debt / Company's Equity \n",
    " \n",
    " * Cash per Share: Cash / Share\n",
    "\n"
   ]
  },
  {
   "attachments": {},
   "cell_type": "markdown",
   "metadata": {},
   "source": [
    "#### Installing & Importing Libraries \n",
    "\n",
    "The libraries I will be uwsing for this project will help me synthize and analyze my data, insert plots and graphs and perform a regression analysis.\n",
    "\n",
    "* Numpy\n",
    "* Pandas\n",
    "* Matplotlib\n",
    "* Seaborn\n",
    "* Sklearn"
   ]
  },
  {
   "cell_type": "code",
   "execution_count": 3,
   "metadata": {},
   "outputs": [
    {
     "name": "stdout",
     "output_type": "stream",
     "text": [
      "Collecting manager\n",
      "  Using cached Manager-2.0.5.tar.gz (751 kB)\n",
      "  Preparing metadata (setup.py): started\n",
      "  Preparing metadata (setup.py): finished with status 'error'\n",
      "Note: you may need to restart the kernel to use updated packages.\n"
     ]
    },
    {
     "name": "stderr",
     "output_type": "stream",
     "text": [
      "  error: subprocess-exited-with-error\n",
      "  \n",
      "  × python setup.py egg_info did not run successfully.\n",
      "  │ exit code: 1\n",
      "  ╰─> [8 lines of output]\n",
      "      Traceback (most recent call last):\n",
      "        File \"<string>\", line 2, in <module>\n",
      "        File \"<pip-setuptools-caller>\", line 34, in <module>\n",
      "        File \"C:\\Users\\emman\\AppData\\Local\\Temp\\pip-install-i88xuszz\\manager_100ffdd7c3b646bd80b6bed4292bf9c6\\setup.py\", line 35, in <module>\n",
      "          _setEncoding()\n",
      "        File \"C:\\Users\\emman\\AppData\\Local\\Temp\\pip-install-i88xuszz\\manager_100ffdd7c3b646bd80b6bed4292bf9c6\\setup.py\", line 31, in _setEncoding\n",
      "          reload(sys)\n",
      "      NameError: name 'reload' is not defined\n",
      "      [end of output]\n",
      "  \n",
      "  note: This error originates from a subprocess, and is likely not a problem with pip.\n",
      "error: metadata-generation-failed\n",
      "\n",
      "× Encountered error while generating package metadata.\n",
      "╰─> See above for output.\n",
      "\n",
      "note: This is an issue with the package mentioned above, not pip.\n",
      "hint: See above for details.\n",
      "\n",
      "[notice] A new release of pip available: 22.2.2 -> 22.3.1\n",
      "[notice] To update, run: C:\\Users\\emman\\AppData\\Local\\Microsoft\\WindowsApps\\PythonSoftwareFoundation.Python.3.10_qbz5n2kfra8p0\\python.exe -m pip install --upgrade pip\n"
     ]
    }
   ],
   "source": [
    "pip install manager\n"
   ]
  },
  {
   "cell_type": "code",
   "execution_count": 4,
   "metadata": {},
   "outputs": [
    {
     "name": "stdout",
     "output_type": "stream",
     "text": [
      "Requirement already satisfied: pandas in c:\\users\\emman\\appdata\\local\\packages\\pythonsoftwarefoundation.python.3.10_qbz5n2kfra8p0\\localcache\\local-packages\\python310\\site-packages (1.5.2)\n",
      "Requirement already satisfied: python-dateutil>=2.8.1 in c:\\users\\emman\\appdata\\local\\packages\\pythonsoftwarefoundation.python.3.10_qbz5n2kfra8p0\\localcache\\local-packages\\python310\\site-packages (from pandas) (2.8.2)\n",
      "Requirement already satisfied: numpy>=1.21.0 in c:\\users\\emman\\appdata\\local\\packages\\pythonsoftwarefoundation.python.3.10_qbz5n2kfra8p0\\localcache\\local-packages\\python310\\site-packages (from pandas) (1.23.5)\n",
      "Requirement already satisfied: pytz>=2020.1 in c:\\users\\emman\\appdata\\local\\packages\\pythonsoftwarefoundation.python.3.10_qbz5n2kfra8p0\\localcache\\local-packages\\python310\\site-packages (from pandas) (2022.6)\n",
      "Requirement already satisfied: six>=1.5 in c:\\users\\emman\\appdata\\local\\packages\\pythonsoftwarefoundation.python.3.10_qbz5n2kfra8p0\\localcache\\local-packages\\python310\\site-packages (from python-dateutil>=2.8.1->pandas) (1.16.0)\n",
      "Note: you may need to restart the kernel to use updated packages.\n"
     ]
    },
    {
     "name": "stderr",
     "output_type": "stream",
     "text": [
      "\n",
      "[notice] A new release of pip available: 22.2.2 -> 22.3.1\n",
      "[notice] To update, run: C:\\Users\\emman\\AppData\\Local\\Microsoft\\WindowsApps\\PythonSoftwareFoundation.Python.3.10_qbz5n2kfra8p0\\python.exe -m pip install --upgrade pip\n"
     ]
    }
   ],
   "source": [
    "pip install pandas"
   ]
  },
  {
   "cell_type": "code",
   "execution_count": 2,
   "metadata": {},
   "outputs": [
    {
     "name": "stdout",
     "output_type": "stream",
     "text": [
      "Requirement already satisfied: numpy in c:\\users\\emman\\appdata\\local\\packages\\pythonsoftwarefoundation.python.3.10_qbz5n2kfra8p0\\localcache\\local-packages\\python310\\site-packages (1.23.5)\n",
      "Note: you may need to restart the kernel to use updated packages.\n"
     ]
    },
    {
     "name": "stderr",
     "output_type": "stream",
     "text": [
      "\n",
      "[notice] A new release of pip available: 22.2.2 -> 22.3.1\n",
      "[notice] To update, run: C:\\Users\\emman\\AppData\\Local\\Microsoft\\WindowsApps\\PythonSoftwareFoundation.Python.3.10_qbz5n2kfra8p0\\python.exe -m pip install --upgrade pip\n"
     ]
    }
   ],
   "source": [
    "pip install numpy"
   ]
  },
  {
   "cell_type": "code",
   "execution_count": 12,
   "metadata": {},
   "outputs": [
    {
     "name": "stdout",
     "output_type": "stream",
     "text": [
      "Note: you may need to restart the kernel to use updated packages.\n"
     ]
    },
    {
     "name": "stderr",
     "output_type": "stream",
     "text": [
      "ERROR: Could not find a version that satisfies the requirement matlpot (from versions: none)\n",
      "ERROR: No matching distribution found for matlpot\n",
      "\n",
      "[notice] A new release of pip available: 22.2.2 -> 22.3.1\n",
      "[notice] To update, run: C:\\Users\\emman\\AppData\\Local\\Microsoft\\WindowsApps\\PythonSoftwareFoundation.Python.3.10_qbz5n2kfra8p0\\python.exe -m pip install --upgrade pip\n"
     ]
    }
   ],
   "source": [
    "pip install matlpot lib"
   ]
  },
  {
   "cell_type": "code",
   "execution_count": 13,
   "metadata": {},
   "outputs": [
    {
     "name": "stdout",
     "output_type": "stream",
     "text": [
      "Collecting seabornNote: you may need to restart the kernel to use updated packages.\n",
      "\n",
      "  Downloading seaborn-0.12.1-py3-none-any.whl (288 kB)\n",
      "     -------------------------------------- 288.2/288.2 kB 2.5 MB/s eta 0:00:00\n",
      "Collecting matplotlib!=3.6.1,>=3.1\n",
      "  Downloading matplotlib-3.6.2-cp310-cp310-win_amd64.whl (7.2 MB)\n",
      "     ---------------------------------------- 7.2/7.2 MB 11.2 MB/s eta 0:00:00\n",
      "Requirement already satisfied: numpy>=1.17 in c:\\users\\emman\\appdata\\local\\packages\\pythonsoftwarefoundation.python.3.10_qbz5n2kfra8p0\\localcache\\local-packages\\python310\\site-packages (from seaborn) (1.23.5)\n",
      "Requirement already satisfied: pandas>=0.25 in c:\\users\\emman\\appdata\\local\\packages\\pythonsoftwarefoundation.python.3.10_qbz5n2kfra8p0\\localcache\\local-packages\\python310\\site-packages (from seaborn) (1.5.2)\n",
      "Collecting fonttools>=4.22.0\n",
      "  Downloading fonttools-4.38.0-py3-none-any.whl (965 kB)\n",
      "     -------------------------------------- 965.4/965.4 kB 6.8 MB/s eta 0:00:00\n",
      "Requirement already satisfied: packaging>=20.0 in c:\\users\\emman\\appdata\\local\\packages\\pythonsoftwarefoundation.python.3.10_qbz5n2kfra8p0\\localcache\\local-packages\\python310\\site-packages (from matplotlib!=3.6.1,>=3.1->seaborn) (21.3)\n",
      "Collecting cycler>=0.10\n",
      "  Using cached cycler-0.11.0-py3-none-any.whl (6.4 kB)\n",
      "Requirement already satisfied: pyparsing>=2.2.1 in c:\\users\\emman\\appdata\\local\\packages\\pythonsoftwarefoundation.python.3.10_qbz5n2kfra8p0\\localcache\\local-packages\\python310\\site-packages (from matplotlib!=3.6.1,>=3.1->seaborn) (3.0.9)\n",
      "Collecting kiwisolver>=1.0.1\n",
      "  Downloading kiwisolver-1.4.4-cp310-cp310-win_amd64.whl (55 kB)\n",
      "     ---------------------------------------- 55.3/55.3 kB 1.4 MB/s eta 0:00:00\n",
      "Collecting pillow>=6.2.0\n",
      "  Downloading Pillow-9.3.0-cp310-cp310-win_amd64.whl (2.5 MB)\n",
      "     ---------------------------------------- 2.5/2.5 MB 7.8 MB/s eta 0:00:00\n",
      "Collecting contourpy>=1.0.1\n",
      "  Downloading contourpy-1.0.6-cp310-cp310-win_amd64.whl (163 kB)\n",
      "     -------------------------------------- 163.6/163.6 kB 4.9 MB/s eta 0:00:00\n",
      "Requirement already satisfied: python-dateutil>=2.7 in c:\\users\\emman\\appdata\\local\\packages\\pythonsoftwarefoundation.python.3.10_qbz5n2kfra8p0\\localcache\\local-packages\\python310\\site-packages (from matplotlib!=3.6.1,>=3.1->seaborn) (2.8.2)\n",
      "Requirement already satisfied: pytz>=2020.1 in c:\\users\\emman\\appdata\\local\\packages\\pythonsoftwarefoundation.python.3.10_qbz5n2kfra8p0\\localcache\\local-packages\\python310\\site-packages (from pandas>=0.25->seaborn) (2022.6)\n",
      "Requirement already satisfied: six>=1.5 in c:\\users\\emman\\appdata\\local\\packages\\pythonsoftwarefoundation.python.3.10_qbz5n2kfra8p0\\localcache\\local-packages\\python310\\site-packages (from python-dateutil>=2.7->matplotlib!=3.6.1,>=3.1->seaborn) (1.16.0)\n",
      "Installing collected packages: pillow, kiwisolver, fonttools, cycler, contourpy, matplotlib, seaborn\n",
      "Successfully installed contourpy-1.0.6 cycler-0.11.0 fonttools-4.38.0 kiwisolver-1.4.4 matplotlib-3.6.2 pillow-9.3.0 seaborn-0.12.1\n"
     ]
    },
    {
     "name": "stderr",
     "output_type": "stream",
     "text": [
      "  WARNING: The scripts fonttools.exe, pyftmerge.exe, pyftsubset.exe and ttx.exe are installed in 'C:\\Users\\emman\\AppData\\Local\\Packages\\PythonSoftwareFoundation.Python.3.10_qbz5n2kfra8p0\\LocalCache\\local-packages\\Python310\\Scripts' which is not on PATH.\n",
      "  Consider adding this directory to PATH or, if you prefer to suppress this warning, use --no-warn-script-location.\n",
      "\n",
      "[notice] A new release of pip available: 22.2.2 -> 22.3.1\n",
      "[notice] To update, run: C:\\Users\\emman\\AppData\\Local\\Microsoft\\WindowsApps\\PythonSoftwareFoundation.Python.3.10_qbz5n2kfra8p0\\python.exe -m pip install --upgrade pip\n"
     ]
    }
   ],
   "source": [
    "pip install seaborn"
   ]
  },
  {
   "cell_type": "code",
   "execution_count": 3,
   "metadata": {},
   "outputs": [
    {
     "name": "stdout",
     "output_type": "stream",
     "text": [
      "Collecting scipy\n",
      "  Downloading scipy-1.9.3-cp310-cp310-win_amd64.whl (40.1 MB)\n",
      "     --------------------------------------- 40.1/40.1 MB 10.6 MB/s eta 0:00:00\n",
      "Requirement already satisfied: numpy<1.26.0,>=1.18.5 in c:\\users\\emman\\appdata\\local\\packages\\pythonsoftwarefoundation.python.3.10_qbz5n2kfra8p0\\localcache\\local-packages\\python310\\site-packages (from scipy) (1.23.5)\n",
      "Installing collected packages: scipy\n",
      "Successfully installed scipy-1.9.3\n",
      "Note: you may need to restart the kernel to use updated packages.\n"
     ]
    },
    {
     "name": "stderr",
     "output_type": "stream",
     "text": [
      "\n",
      "[notice] A new release of pip available: 22.2.2 -> 22.3.1\n",
      "[notice] To update, run: C:\\Users\\emman\\AppData\\Local\\Microsoft\\WindowsApps\\PythonSoftwareFoundation.Python.3.10_qbz5n2kfra8p0\\python.exe -m pip install --upgrade pip\n"
     ]
    }
   ],
   "source": [
    "pip install scipy"
   ]
  },
  {
   "cell_type": "code",
   "execution_count": 4,
   "metadata": {},
   "outputs": [
    {
     "name": "stdout",
     "output_type": "stream",
     "text": [
      "Collecting Scikit-learnNote: you may need to restart the kernel to use updated packages.\n"
     ]
    },
    {
     "name": "stderr",
     "output_type": "stream",
     "text": [
      "\n",
      "[notice] A new release of pip available: 22.2.2 -> 22.3.1\n",
      "[notice] To update, run: C:\\Users\\emman\\AppData\\Local\\Microsoft\\WindowsApps\\PythonSoftwareFoundation.Python.3.10_qbz5n2kfra8p0\\python.exe -m pip install --upgrade pip\n"
     ]
    },
    {
     "name": "stdout",
     "output_type": "stream",
     "text": [
      "\n",
      "  Using cached scikit_learn-1.2.0-cp310-cp310-win_amd64.whl (8.2 MB)\n",
      "Collecting joblib>=1.1.1\n",
      "  Downloading joblib-1.2.0-py3-none-any.whl (297 kB)\n",
      "     -------------------------------------- 298.0/298.0 kB 1.7 MB/s eta 0:00:00\n",
      "Collecting threadpoolctl>=2.0.0\n",
      "  Downloading threadpoolctl-3.1.0-py3-none-any.whl (14 kB)\n",
      "Requirement already satisfied: scipy>=1.3.2 in c:\\users\\emman\\appdata\\local\\packages\\pythonsoftwarefoundation.python.3.10_qbz5n2kfra8p0\\localcache\\local-packages\\python310\\site-packages (from Scikit-learn) (1.9.3)\n",
      "Requirement already satisfied: numpy>=1.17.3 in c:\\users\\emman\\appdata\\local\\packages\\pythonsoftwarefoundation.python.3.10_qbz5n2kfra8p0\\localcache\\local-packages\\python310\\site-packages (from Scikit-learn) (1.23.5)\n",
      "Installing collected packages: threadpoolctl, joblib, Scikit-learn\n",
      "Successfully installed Scikit-learn-1.2.0 joblib-1.2.0 threadpoolctl-3.1.0\n"
     ]
    }
   ],
   "source": [
    "pip install Scikit-learn"
   ]
  },
  {
   "cell_type": "code",
   "execution_count": 18,
   "metadata": {},
   "outputs": [],
   "source": [
    "import pandas as pd"
   ]
  },
  {
   "cell_type": "code",
   "execution_count": 19,
   "metadata": {},
   "outputs": [],
   "source": [
    "import numpy as np"
   ]
  },
  {
   "cell_type": "code",
   "execution_count": 21,
   "metadata": {},
   "outputs": [],
   "source": [
    "import matplotlib as plt"
   ]
  },
  {
   "cell_type": "code",
   "execution_count": 5,
   "metadata": {},
   "outputs": [],
   "source": [
    "import seaborn as sns"
   ]
  },
  {
   "cell_type": "markdown",
   "metadata": {},
   "source": [
    "References\n",
    "1. https://en.wikipedia.org/wiki/Credit_rating\n",
    "\n",
    "\n"
   ]
  },
  {
   "cell_type": "markdown",
   "metadata": {},
   "source": []
  },
  {
   "cell_type": "markdown",
   "metadata": {},
   "source": []
  }
 ],
 "metadata": {
  "kernelspec": {
   "display_name": "Python 3.10.8 64-bit (microsoft store)",
   "language": "python",
   "name": "python3"
  },
  "language_info": {
   "codemirror_mode": {
    "name": "ipython",
    "version": 3
   },
   "file_extension": ".py",
   "mimetype": "text/x-python",
   "name": "python",
   "nbconvert_exporter": "python",
   "pygments_lexer": "ipython3",
   "version": "3.10.8"
  },
  "orig_nbformat": 4,
  "vscode": {
   "interpreter": {
    "hash": "8d3a06df2823a66d95fe8f341fd415364609d86e2a97557202419aeb6b2e6f61"
   }
  }
 },
 "nbformat": 4,
 "nbformat_minor": 2
}
