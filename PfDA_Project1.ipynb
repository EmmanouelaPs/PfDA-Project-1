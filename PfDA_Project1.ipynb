{
 "cells": [
  {
   "cell_type": "markdown",
   "metadata": {},
   "source": [
    "# Programming for Data Analytics 2022 - Project 1\n",
    "\n",
    "Emmanouela Psaraki\n",
    "*G00411374*"
   ]
  },
  {
   "cell_type": "markdown",
   "metadata": {},
   "source": [
    "## Table of Contents\n",
    "### Project Introduction\n",
    "### Research Framework\n",
    "#### Credit Ratings Definition\n",
    "#### Corporate Credit Ratings\n",
    "#### Credit Rating Agencies\n",
    "### Data Set Explanation\n",
    "### Variables\n",
    "   * Rating\n",
    "   * Name\n",
    "   * Sector\n",
    "   * Gross profit Margin\n",
    "   * Debt / Equity Ratio\n",
    "   * Cash per Share\n",
    "   \n",
    "### Installing & Importing Libraries\n",
    "### Importing & Exploring the Data Set\n",
    "### Create a Data Frame based on my Data Set\n",
    "### Data Frame Analysis\n",
    "### References\n",
    "   \n",
    "  \n",
    "  \n",
    "  \n",
    "  \n",
    "  \n"
   ]
  },
  {
   "cell_type": "markdown",
   "metadata": {},
   "source": [
    "#### [Project Intruduction](#chapter1)\n",
    "\n",
    "This is the first project for the Programming for Data Analytics Course. The purpose of this project is to create a data set by simulating a real - world phenomenos of my choosing.\n",
    "Python should then be used to manipulate and synthesize data within my dataset.\n",
    "\n",
    "The real-world phenomenon I chose to investigate relates to my job and and examines the Corporate Credit Ratings."
   ]
  },
  {
   "cell_type": "markdown",
   "metadata": {},
   "source": [
    "#### [Research Framework](#chapter2)\n",
    "\n",
    "* Credit Ratings Definition\n",
    "\n",
    "A credit rating is an evaluation of the credit risk of a prospective debtor (an individual, a business, company or a government), predicting their ability to pay back the debt, and an implicit forecast of the likelihood of the debtor defaulting. The credit rating represents an evaluation of a credit rating agency of the qualitative and quantitative information for the prospective debtor, including information provided by the prospective debtor and other non-public information obtained by the credit rating agency's analysts.\n",
    "\n",
    "Credit reporting (or credit score) - is a subset of credit rating - it is a numeric evaluation of an individual's credit worthiness, which is done by a credit bureau or consumer credit reporting agency.**(1)**\n"
   ]
  },
  {
   "cell_type": "markdown",
   "metadata": {},
   "source": [
    "* Corporate Cradit Ratings\n",
    "\n",
    "Main Article: [Bond Credit Rating](https://en.wikipedia.org/wiki/Bond_credit_rating)\n",
    "\n",
    "Credit ratings can address a corporation's financial instruments i.e. debt security such as a bond, but also the corporations itself. Ratings are assigned by credit rating agencies, the largest of which are Standard & Poor's, Moody's and Fitch Ratings. They use letter designations such as A, B, C. Higher grades are intended to represent a lower probability of default.\n",
    "\n",
    "Agencies do not attach a hard number of probability of default to each grade, preferring descriptive definitions such as: \"the obligor's capacity to meet its financial commitment on the obligation is extremely strong\", or \"less vulnerable to non-payment that other speculative issues...\" (Standard and Poors' definition of an AAA-rated and BB-rated bond respectively). However, some studies have estimated the average risk and reward of bonds by rating. One study by Moody's claimed that over a \"5-year time horizon\" bonds it gave its highest rating (Aaa) to had a \"cumulative default rate\" of 0.18%, the next highest (Aa2) 0.28%, the next (Baa2) 2.11%, 8.82% for the next (Ba2), and 31.24% for the lowest it studied (B2). Over a long period, it stated \"the order is by and large, but not exactly, preserved\".\n",
    "\n",
    "Another study in Journal of Finance calculated the additional interest rate or \"spread\" corporate bonds pay over that of \"riskless\" US Treasury bonds, according to the bonds' rating. (See \"Basis point spread\" in table to right.) Looking at rated bonds for 1973–89, the authors found a AAA-rated bond paid 43 \"basis points\" (or 43/100 of a percentage point) over a US Treasury bond (so that it would yield 3.43% if the Treasury yielded 3.00%). A CCC-rated \"junk\" (or speculative) bond, on the other hand, paid over 7% (724 basis points) more than a Treasury bond on average over that period.\n",
    "\n",
    "Different rating agencies may use variations of an alphabetical combination of lowercase and uppercase letters, with either plus or minus signs or numbers added to further fine-tune the rating (see colored chart). The Standard & Poor's rating scale uses uppercase letters and pluses and minuses. The Moody's rating system uses numbers and lowercase letters as well as uppercase.\n",
    "\n",
    "While Moody's, S&P and Fitch Ratings control approximately 95% of the credit ratings business, they are not the only rating agencies. DBRS's long-term ratings scale is somewhat similar to Standard & Poor's and Fitch Ratings with the words high and low replacing the + and −. It goes as follows, from excellent to poor: AAA, AA (high), AA, AA (low), A (high), A, A (low), BBB (high), BBB, BBB (low), BB (high), BB, BB (low), B (high), B, B (low), CCC (high), CCC, CCC (low), CC (high), CC, CC (low), C (high), C, C (low) and D. The short-term ratings often map to long-term ratings though there is room for exceptions at the high or low side of each equivalent.\n",
    "\n",
    "S&P, Moody's, Fitch and DBRS are the only four ratings agencies that are recognized by the European Central Bank (ECB) for determining collateral requirements for banks to borrow from the central bank. The ECB uses a first, best rule among the four agencies that have the designated ECAI status, which means that it takes the highest rating among the four agencies – S&P, Moody's, Fitch and DBRS – to determine haircuts and collateral requirements for borrowing. Ratings in Europe have been under close scrutiny, particularly the highest ratings given to countries like Spain, Ireland and Italy, because they affect how much banks can borrow against sovereign debt they hold.\n",
    "\n",
    "A. M. Best rates from excellent to poor in the following manner: A++, A+, A, A−, B++, B+, B, B−, C++, C+, C, C−, D, E, F, and S. The CTRISKS rating system is as follows: CT3A, CT2A, CT1A, CT3B, CT2B, CT1B, CT3C, CT2C and CT1C. All these CTRISKS grades are mapped to one-year probability of default."
   ]
  },
  {
   "cell_type": "markdown",
   "metadata": {},
   "source": [
    "* Credit Rating Agencies\n",
    "\n",
    "Not all of the Rating Agencies use the same wording to assign a credit rating. The picture below describes the scaling the three biggest US credit rating agencies, namely Moody's. S&P, and Fitch, use to assign long-term corporate credit ratings. The red line divides \"Investment Grade\" (above the line) from what is often called \"speculative\", \"below investment grade,\" \"high yield\", or \"junk\". The scale goes from vely low-risk triple-A at the top to very high risk, and finally \"default\" at the bottom."
   ]
  },
  {
   "cell_type": "markdown",
   "metadata": {},
   "source": [
    "![Corporate Ratings]( https://wolfstreet.com/wp-content/uploads/2019/01/US-credit-ratings-scale-Moodys-SP-Fitch.png)"
   ]
  },
  {
   "cell_type": "markdown",
   "metadata": {},
   "source": [
    "### Data Set Explanation"
   ]
  },
  {
   "cell_type": "markdown",
   "metadata": {},
   "source": [
    "The Data Set that I have picked to do my Analysis is published in [Kaggle](https://www.kaggle.com/datasets/agewerc/corporate-credit-rating) and contains a list of 2029 credit ratings issued by major agencies such as Standard and Poors to big US firms (traded on NYSE or Nasdaq) from 2010 to 2016.\n",
    "\n",
    "There are 30 features for every company of which 25 are financial indicators. These are divided in:\n",
    "\n",
    "* Liquidity Measurement Ratios: currentRatio, quickRatio, cashRatio, daysOfSalesOutstanding\n",
    "\n",
    "* Profitability Indicator Ratios: grossProfitMargin, operatingProfitMargin, pretaxProfitMargin, netProfitMargin, effectiveTaxRate, returnOnAssets, returnOnEquity, returnOnCapitalEmployed\n",
    "\n",
    "* Debt Ratios: debtRatio, debtEquityRatio\n",
    "\n",
    "* Operating Performance Ratios:` assetTurnover\n",
    "\n",
    "* Cash Flow Indicator Ratios: operatingCashFlowPerShare, freeCashFlowPerShare, cashPerShare, operatingCashFlowSalesRatio, freeCashFlowOperatingCashFlowRatio"
   ]
  },
  {
   "cell_type": "markdown",
   "metadata": {},
   "source": [
    "### Variables\n",
    "\n",
    "From the Above Data Set, I have picked 6 Variables that I will focus my analysis on. These are:\n",
    "\n",
    " * Rating: the Scale used by the Credit Rating Agency to classify the debt default probability of the Issuer or the Debt instrument\n",
    "\n",
    " * Name: The Name of the Credit Rating Agency\n",
    "\n",
    " * Sector: the Sector where the Rated Entity or Debt Instrument belongs\n",
    "\n",
    " * Gross profit Margin: The profit made by the Entity after paying for the direct cost of doing business, which can include labour, materials and other direct production costs. \n",
    "    \n",
    "    It is calculated as: (Net Revenue - Direct Expenses) / Net Revenue * 100\n",
    "\n",
    " * Debt / Equity Ratio: this ratio measures the extent to which a company can cover its debt. It is calculated as Company's Debt / Company's Equity \n",
    " \n",
    " * Cash per Share: Cash / Share\n",
    "\n"
   ]
  },
  {
   "cell_type": "markdown",
   "metadata": {},
   "source": [
    "#### Importing Libraries \n",
    "\n",
    "The libraries I will be uwsing for this project will help me synthize and analyze my data, insert plots and graphs and perform a regression analysis.\n",
    "\n",
    "* Numpy\n",
    "* Pandas\n",
    "* Matplotlib\n",
    "* Seaborn\n",
    "* Sklearn"
   ]
  },
  {
   "cell_type": "code",
   "execution_count": 1,
   "metadata": {},
   "outputs": [],
   "source": [
    "import pandas as pd"
   ]
  },
  {
   "cell_type": "code",
   "execution_count": 2,
   "metadata": {},
   "outputs": [],
   "source": [
    "import numpy as np"
   ]
  },
  {
   "cell_type": "code",
   "execution_count": 4,
   "metadata": {},
   "outputs": [],
   "source": [
    "import matplotlib.pyplot as plt"
   ]
  },
  {
   "cell_type": "code",
   "execution_count": 3,
   "metadata": {},
   "outputs": [],
   "source": [
    "import seaborn as sns"
   ]
  },
  {
   "cell_type": "code",
   "execution_count": 5,
   "metadata": {},
   "outputs": [],
   "source": [
    "import sklearn as sk"
   ]
  },
  {
   "cell_type": "markdown",
   "metadata": {},
   "source": [
    "### Importing & Exploring the Data Set\n",
    "\n",
    "\n"
   ]
  },
  {
   "cell_type": "code",
   "execution_count": null,
   "metadata": {},
   "outputs": [],
   "source": [
    "\n"
   ]
  },
  {
   "cell_type": "code",
   "execution_count": null,
   "metadata": {},
   "outputs": [],
   "source": []
  },
  {
   "cell_type": "code",
   "execution_count": null,
   "metadata": {},
   "outputs": [],
   "source": []
  },
  {
   "cell_type": "code",
   "execution_count": null,
   "metadata": {},
   "outputs": [],
   "source": []
  },
  {
   "cell_type": "code",
   "execution_count": null,
   "metadata": {},
   "outputs": [],
   "source": []
  },
  {
   "cell_type": "code",
   "execution_count": null,
   "metadata": {},
   "outputs": [],
   "source": []
  },
  {
   "cell_type": "code",
   "execution_count": null,
   "metadata": {},
   "outputs": [],
   "source": [
    "References\n",
    "1. https://en.wikipedia.org/wiki/Credit_rating"
   ]
  }
 ],
 "metadata": {
  "kernelspec": {
   "display_name": "Python 3 (ipykernel)",
   "language": "python",
   "name": "python3"
  },
  "language_info": {
   "codemirror_mode": {
    "name": "ipython",
    "version": 3
   },
   "file_extension": ".py",
   "mimetype": "text/x-python",
   "name": "python",
   "nbconvert_exporter": "python",
   "pygments_lexer": "ipython3",
   "version": "3.10.8 (tags/v3.10.8:aaaf517, Oct 11 2022, 16:50:30) [MSC v.1933 64 bit (AMD64)]"
  },
  "vscode": {
   "interpreter": {
    "hash": "8d3a06df2823a66d95fe8f341fd415364609d86e2a97557202419aeb6b2e6f61"
   }
  }
 },
 "nbformat": 4,
 "nbformat_minor": 2
}
